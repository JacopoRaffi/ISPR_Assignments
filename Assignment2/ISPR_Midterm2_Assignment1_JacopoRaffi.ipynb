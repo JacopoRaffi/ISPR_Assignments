{
 "cells": [
  {
   "cell_type": "markdown",
   "metadata": {},
   "source": [
    "# Assignment 1: Hidden Markov Model\n",
    "### Author: Jacopo Raffi"
   ]
  },
  {
   "cell_type": "code",
   "execution_count": 35,
   "metadata": {},
   "outputs": [],
   "source": [
    "import pandas as pd\n",
    "import hmmlearn.hmm as hmm\n",
    "import numpy as np\n",
    "\n",
    "data = pd.read_csv(\"./data/AirQualityUCI.csv\", sep=';')\n",
    "data = data[['Date', 'Time', 'C6H6(GT)']] # for the assignment just need one sensor column"
   ]
  },
  {
   "cell_type": "markdown",
   "metadata": {},
   "source": [
    "## Preprocessing data"
   ]
  },
  {
   "cell_type": "code",
   "execution_count": null,
   "metadata": {},
   "outputs": [],
   "source": [
    "data = data.replace(',', '.', regex=True) # need to do this to convert numbers into float (values are written with ',' and not '.')\n",
    "data['C6H6(GT)'] = data['C6H6(GT)'].astype(float)\n",
    "data['C6H6(GT)'] = data['C6H6(GT)'].replace(-200, pd.NA) # so to avoid missing values when computing the averages\n",
    "\n",
    "means = data.groupby('Time')['C6H6(GT)'].mean()\n",
    "data['C6H6(GT)'] = data.apply(lambda row: means[row['Time']] if pd.isna(row['C6H6(GT)']) else row['C6H6(GT)'], axis=1)\n",
    "\n",
    "seq = data['C6H6(GT)'].to_numpy()"
   ]
  },
  {
   "cell_type": "markdown",
   "metadata": {},
   "source": [
    "## Gaussian HMM"
   ]
  },
  {
   "cell_type": "code",
   "execution_count": 43,
   "metadata": {},
   "outputs": [],
   "source": []
  }
 ],
 "metadata": {
  "kernelspec": {
   "display_name": "ispr",
   "language": "python",
   "name": "python3"
  },
  "language_info": {
   "codemirror_mode": {
    "name": "ipython",
    "version": 3
   },
   "file_extension": ".py",
   "mimetype": "text/x-python",
   "name": "python",
   "nbconvert_exporter": "python",
   "pygments_lexer": "ipython3",
   "version": "3.10.12"
  }
 },
 "nbformat": 4,
 "nbformat_minor": 2
}
