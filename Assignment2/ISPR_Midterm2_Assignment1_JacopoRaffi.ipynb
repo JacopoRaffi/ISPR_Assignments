{
 "cells": [
  {
   "cell_type": "markdown",
   "metadata": {},
   "source": [
    "# Assignment 1: Hidden Markov Model\n",
    "### Author: Jacopo Raffi"
   ]
  },
  {
   "cell_type": "code",
   "execution_count": 41,
   "metadata": {},
   "outputs": [],
   "source": [
    "import pandas as pd\n",
    "import hmmlearn.hmm as hmm\n",
    "import numpy as np\n",
    "import matplotlib.pyplot as plt\n",
    "\n",
    "data = pd.read_csv(\"./data/AirQualityUCI.csv\", sep=';')\n",
    "data = data[['Date', 'Time', 'C6H6(GT)']] # for the assignment just need one sensor column"
   ]
  },
  {
   "cell_type": "markdown",
   "metadata": {},
   "source": [
    "## Preprocessing data"
   ]
  },
  {
   "cell_type": "code",
   "execution_count": 42,
   "metadata": {},
   "outputs": [],
   "source": [
    "data = data.replace(',', '.', regex=True) # need to do this to convert numbers into float (values are written with ',' and not '.')\n",
    "data['C6H6(GT)'] = data['C6H6(GT)'].astype(float)\n",
    "data['C6H6(GT)'] = data['C6H6(GT)'].replace(-200, pd.NA) # so to avoid missing values when computing the\n",
    "\n",
    "means = data.groupby('Time')['C6H6(GT)'].mean() # averages for each hour of the day\n",
    "data['C6H6(GT)'] = data.apply(lambda row: means[row['Time']] if pd.isna(row['C6H6(GT)']) else row['C6H6(GT)'], axis=1) # change missing values"
   ]
  },
  {
   "cell_type": "markdown",
   "metadata": {},
   "source": [
    "## HMM training\n",
    "### Gaussian vs Mixture of Gaussian"
   ]
  },
  {
   "cell_type": "code",
   "execution_count": 43,
   "metadata": {},
   "outputs": [],
   "source": [
    "seq = data['C6H6(GT)'].to_numpy()\n",
    "seq = seq.reshape(-1, 1) # reshape needed for hmmlearn, 1D sequence must be in this form: [[1], [2], [3]] \n",
    "\n",
    "results = {'Gaussian Log-Likelihood': [],\n",
    "           'Gaussian Converged': [],\n",
    "           'Mix Gaussian Log-Likelihood': [],\n",
    "           'Mix Gaussian Converged': [] }"
   ]
  },
  {
   "cell_type": "code",
   "execution_count": 44,
   "metadata": {},
   "outputs": [],
   "source": [
    "for state in [2, 3, 5, 7]:\n",
    "    gauss_model = hmm.GaussianHMM(n_components=state, n_iter=1000)\n",
    "    mix_gauss_model = hmm.GMMHMM(n_components=state, n_iter=1000)\n",
    "\n",
    "    gauss_model.fit(seq)\n",
    "    gauss_converged = gauss_model.monitor_.converged\n",
    "    gauss_score = gauss_model.score(seq)\n",
    "\n",
    "    mix_gauss_model.fit(seq)\n",
    "    mix_gauss_converged = gauss_model.monitor_.converged\n",
    "    mix_gauss_score = mix_gauss_model.score(seq)\n",
    "\n",
    "    results['Gaussian Log-Likelihood'].append(gauss_score)\n",
    "    results['Gaussian Converged'].append(gauss_converged)\n",
    "    results['Mix Gaussian Log-Likelihood'].append(mix_gauss_score)\n",
    "    results['Mix Gaussian Converged'].append(mix_gauss_converged)\n",
    "\n",
    "df = pd.DataFrame(results, index=[2, 3, 5, 7])\n",
    "df.index.name = \"Number of States\""
   ]
  },
  {
   "cell_type": "code",
   "execution_count": 45,
   "metadata": {},
   "outputs": [
    {
     "data": {
      "text/html": [
       "<div>\n",
       "<style scoped>\n",
       "    .dataframe tbody tr th:only-of-type {\n",
       "        vertical-align: middle;\n",
       "    }\n",
       "\n",
       "    .dataframe tbody tr th {\n",
       "        vertical-align: top;\n",
       "    }\n",
       "\n",
       "    .dataframe thead th {\n",
       "        text-align: right;\n",
       "    }\n",
       "</style>\n",
       "<table border=\"1\" class=\"dataframe\">\n",
       "  <thead>\n",
       "    <tr style=\"text-align: right;\">\n",
       "      <th></th>\n",
       "      <th>Gaussian Log-Likelihood</th>\n",
       "      <th>Gaussian Converged</th>\n",
       "      <th>Mix Gaussian Log-Likelihood</th>\n",
       "      <th>Mix Gaussian Converged</th>\n",
       "    </tr>\n",
       "    <tr>\n",
       "      <th>Number of States</th>\n",
       "      <th></th>\n",
       "      <th></th>\n",
       "      <th></th>\n",
       "      <th></th>\n",
       "    </tr>\n",
       "  </thead>\n",
       "  <tbody>\n",
       "    <tr>\n",
       "      <th>2</th>\n",
       "      <td>-27959.609086</td>\n",
       "      <td>True</td>\n",
       "      <td>-27959.611827</td>\n",
       "      <td>True</td>\n",
       "    </tr>\n",
       "    <tr>\n",
       "      <th>3</th>\n",
       "      <td>-26189.975249</td>\n",
       "      <td>True</td>\n",
       "      <td>-26189.974009</td>\n",
       "      <td>True</td>\n",
       "    </tr>\n",
       "    <tr>\n",
       "      <th>5</th>\n",
       "      <td>-24835.555644</td>\n",
       "      <td>True</td>\n",
       "      <td>-24790.618877</td>\n",
       "      <td>True</td>\n",
       "    </tr>\n",
       "    <tr>\n",
       "      <th>7</th>\n",
       "      <td>-23798.334942</td>\n",
       "      <td>True</td>\n",
       "      <td>-23651.625580</td>\n",
       "      <td>True</td>\n",
       "    </tr>\n",
       "  </tbody>\n",
       "</table>\n",
       "</div>"
      ],
      "text/plain": [
       "                  Gaussian Log-Likelihood  Gaussian Converged  \\\n",
       "Number of States                                                \n",
       "2                           -27959.609086                True   \n",
       "3                           -26189.975249                True   \n",
       "5                           -24835.555644                True   \n",
       "7                           -23798.334942                True   \n",
       "\n",
       "                  Mix Gaussian Log-Likelihood  Mix Gaussian Converged  \n",
       "Number of States                                                       \n",
       "2                               -27959.611827                    True  \n",
       "3                               -26189.974009                    True  \n",
       "5                               -24790.618877                    True  \n",
       "7                               -23651.625580                    True  "
      ]
     },
     "execution_count": 45,
     "metadata": {},
     "output_type": "execute_result"
    }
   ],
   "source": [
    "df # 2: (high-low), 3 (high-medium-low), 5 (very high, high, medium, low, very low), 7 (very high, high, medium-high, medium, medium-low, low, very low)\n",
    "\n",
    "# mix gaussian seems slightly better"
   ]
  },
  {
   "cell_type": "code",
   "execution_count": 46,
   "metadata": {},
   "outputs": [],
   "source": [
    "subseq_size = int(len(seq) * 0.25)\n",
    "subseq = seq[-subseq_size:] # last 25 % of the sequence\n",
    "v_log_prob, v_states = gauss_model.decode(subseq, algorithm='viterbi')\n",
    "mps_log_prob, mps_states = gauss_model.decode(subseq, algorithm='map')"
   ]
  },
  {
   "cell_type": "code",
   "execution_count": null,
   "metadata": {},
   "outputs": [],
   "source": [
    "# for the plots use scatter and colors and plot also a single line (- - - -) for each states (of course use the same colour)"
   ]
  }
 ],
 "metadata": {
  "kernelspec": {
   "display_name": "ispr",
   "language": "python",
   "name": "python3"
  },
  "language_info": {
   "codemirror_mode": {
    "name": "ipython",
    "version": 3
   },
   "file_extension": ".py",
   "mimetype": "text/x-python",
   "name": "python",
   "nbconvert_exporter": "python",
   "pygments_lexer": "ipython3",
   "version": "3.10.12"
  }
 },
 "nbformat": 4,
 "nbformat_minor": 2
}
