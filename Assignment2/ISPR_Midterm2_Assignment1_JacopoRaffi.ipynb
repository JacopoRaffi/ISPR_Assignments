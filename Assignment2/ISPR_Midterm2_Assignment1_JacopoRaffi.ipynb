{
 "cells": [
  {
   "cell_type": "markdown",
   "metadata": {},
   "source": [
    "# Assignment 1: Hidden Markov Model\n",
    "### Author: Jacopo Raffi"
   ]
  },
  {
   "cell_type": "code",
   "execution_count": 88,
   "metadata": {},
   "outputs": [],
   "source": [
    "import pandas as pd\n",
    "import hmmlearn.hmm as hmm\n",
    "import numpy as np\n",
    "\n",
    "data = pd.read_csv(\"./data/AirQualityUCI.csv\", sep=';')\n",
    "data = data[['Date', 'Time', 'C6H6(GT)']] # for the assignment just need one sensor column"
   ]
  },
  {
   "cell_type": "markdown",
   "metadata": {},
   "source": [
    "## Preprocessing data"
   ]
  },
  {
   "cell_type": "code",
   "execution_count": 89,
   "metadata": {},
   "outputs": [],
   "source": [
    "data = data.replace(',', '.', regex=True) # need to do this to convert numbers into float (values are written with ',' and not '.')\n",
    "data['C6H6(GT)'] = data['C6H6(GT)'].astype(float)\n",
    "data['C6H6(GT)'] = data['C6H6(GT)'].replace(-200, pd.NA) # so to avoid missing values when computing the averages\n",
    "\n",
    "means = data.groupby('Time')['C6H6(GT)'].mean()\n",
    "data['C6H6(GT)'] = data.apply(lambda row: means[row['Time']] if pd.isna(row['C6H6(GT)']) else row['C6H6(GT)'], axis=1)"
   ]
  },
  {
   "cell_type": "markdown",
   "metadata": {},
   "source": [
    "## HMM training"
   ]
  },
  {
   "cell_type": "code",
   "execution_count": 90,
   "metadata": {},
   "outputs": [],
   "source": [
    "STATES = 3 # number of hidden states\n",
    "seq = data['C6H6(GT)'].to_numpy()\n",
    "\n",
    "seq = seq.reshape(-1, 1)"
   ]
  },
  {
   "cell_type": "code",
   "execution_count": 91,
   "metadata": {},
   "outputs": [],
   "source": [
    "gauss_model = hmm.GaussianHMM(n_components=STATES, n_iter=1000)\n",
    "mix_gauss_model = hmm.GMMHMM(n_components=STATES, n_iter=1000) "
   ]
  },
  {
   "cell_type": "code",
   "execution_count": 92,
   "metadata": {},
   "outputs": [
    {
     "data": {
      "text/plain": [
       "-26189.9778953715"
      ]
     },
     "execution_count": 92,
     "metadata": {},
     "output_type": "execute_result"
    }
   ],
   "source": [
    "gauss_model.fit(seq)\n",
    "gauss_model.score(seq)"
   ]
  },
  {
   "cell_type": "code",
   "execution_count": 93,
   "metadata": {},
   "outputs": [
    {
     "data": {
      "text/plain": [
       "-26189.975473921957"
      ]
     },
     "execution_count": 93,
     "metadata": {},
     "output_type": "execute_result"
    }
   ],
   "source": [
    "mix_gauss_model.fit(seq)\n",
    "mix_gauss_model.score(seq)"
   ]
  }
 ],
 "metadata": {
  "kernelspec": {
   "display_name": "ispr",
   "language": "python",
   "name": "python3"
  },
  "language_info": {
   "codemirror_mode": {
    "name": "ipython",
    "version": 3
   },
   "file_extension": ".py",
   "mimetype": "text/x-python",
   "name": "python",
   "nbconvert_exporter": "python",
   "pygments_lexer": "ipython3",
   "version": "3.10.12"
  }
 },
 "nbformat": 4,
 "nbformat_minor": 2
}
