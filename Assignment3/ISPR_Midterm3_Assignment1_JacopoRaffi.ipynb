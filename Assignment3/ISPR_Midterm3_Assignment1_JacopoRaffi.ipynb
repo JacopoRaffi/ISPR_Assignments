{
 "cells": [
  {
   "cell_type": "code",
   "execution_count": 2,
   "metadata": {},
   "outputs": [],
   "source": [
    "import torch\n",
    "import numpy\n",
    "import torch.nn as nn\n",
    "from torchvision import transforms\n",
    "import torchvision.datasets\n",
    "import matplotlib.pyplot as plt\n",
    "import math\n",
    "import wandb\n",
    "import torch.utils.data\n",
    "\n",
    "device = 'cuda' if torch.cuda.is_available() else 'cpu'"
   ]
  },
  {
   "cell_type": "code",
   "execution_count": 3,
   "metadata": {},
   "outputs": [],
   "source": [
    "train_size = 0.8\n",
    "val_size = 0.2\n",
    "generator_gpu = torch.Generator(device=device).manual_seed(42)\n",
    "generator = torch.Generator().manual_seed(42)"
   ]
  },
  {
   "cell_type": "code",
   "execution_count": 4,
   "metadata": {},
   "outputs": [],
   "source": [
    "'''def normalization(tensor, min_value, max_value):\n",
    "    min_tensor = tensor.min()\n",
    "    tensor = (tensor - min_tensor)\n",
    "    max_tensor = tensor.max()\n",
    "    tensor = tensor / max_tensor\n",
    "    tensor = tensor * (max_value - min_value) + min_value\n",
    "    \n",
    "    return torch.round(tensor)\n",
    "\n",
    "\n",
    "img_transform = transforms.Compose([\n",
    "    transforms.ToTensor(),\n",
    "    transforms.Lambda(lambda tensor:normalization(tensor, 0, 1))\n",
    "])\n",
    "'''\n",
    "def add_noise(img_tensor, std=0.4):\n",
    "    return (img_tensor + torch.randn(img_tensor.size(), generator=generator_gpu, device=device) * std)"
   ]
  },
  {
   "cell_type": "code",
   "execution_count": 5,
   "metadata": {},
   "outputs": [],
   "source": [
    "train_data  = torchvision.datasets.MNIST(\"./data\", train=True, transform=transforms.ToTensor(), download=False)\n",
    "test_data = torchvision.datasets.MNIST(\"./data\", train=False, transform=transforms.ToTensor(), download=False)\n",
    "\n",
    "data_size = len(train_data)"
   ]
  },
  {
   "cell_type": "code",
   "execution_count": 6,
   "metadata": {},
   "outputs": [
    {
     "data": {
      "text/plain": [
       "(60000, 10000)"
      ]
     },
     "execution_count": 6,
     "metadata": {},
     "output_type": "execute_result"
    }
   ],
   "source": [
    "len(train_data), len(test_data)"
   ]
  },
  {
   "cell_type": "code",
   "execution_count": 7,
   "metadata": {},
   "outputs": [],
   "source": [
    "train_set, val_set = torch.utils.data.random_split(train_data, [int(train_size*data_size), int(val_size*data_size)], generator=generator)"
   ]
  },
  {
   "cell_type": "code",
   "execution_count": 8,
   "metadata": {},
   "outputs": [
    {
     "data": {
      "text/plain": [
       "(48000, 12000)"
      ]
     },
     "execution_count": 8,
     "metadata": {},
     "output_type": "execute_result"
    }
   ],
   "source": [
    "len(train_set), len(val_set)"
   ]
  },
  {
   "cell_type": "code",
   "execution_count": 9,
   "metadata": {},
   "outputs": [
    {
     "data": {
      "text/plain": [
       "<matplotlib.image.AxesImage at 0x7faa38eaa810>"
      ]
     },
     "execution_count": 9,
     "metadata": {},
     "output_type": "execute_result"
    },
    {
     "data": {
      "image/png": "[encoded data removed]",
      "text/plain": [
       "<Figure size 640x480 with 2 Axes>"
      ]
     },
     "metadata": {},
     "output_type": "display_data"
    }
   ],
   "source": [
    "fig, ax = plt.subplots(1, 2)\n",
    "j = 69\n",
    "x, _ = train_set[j]\n",
    "ax[0].imshow(x.numpy()[0], cmap='gray')\n",
    "ax[1].imshow(add_noise(x.to(device)).cpu().numpy()[0], cmap='gray')"
   ]
  },
  {
   "cell_type": "code",
   "execution_count": 17,
   "metadata": {},
   "outputs": [],
   "source": [
    "class ConvAE(nn.Module):\n",
    "    def __init__(self, input_size = 28, hidden_size:int = 16, latent_size:int = 32, kernel_size:int = 3):\n",
    "        super(ConvAE, self).__init__()\n",
    "\n",
    "        linear_dim = (hidden_size) * (input_size//4) * (input_size//4)\n",
    "        pad = (kernel_size - 1) // 2\n",
    "\n",
    "        self.encoder = nn.Sequential(nn.Conv2d(1, hidden_size//2, kernel_size=kernel_size, padding=pad),\n",
    "                                     nn.ReLU(), \n",
    "                                     nn.MaxPool2d(2, 2),\n",
    "                                     nn.Conv2d(hidden_size//2, hidden_size, kernel_size=kernel_size, padding=pad),\n",
    "                                     nn.ReLU(),\n",
    "                                     nn.MaxPool2d(2, 2),\n",
    "                                     nn.Flatten(),\n",
    "                                     nn.Linear(linear_dim, latent_size),\n",
    "                                     nn.ReLU()\n",
    "                                     )\n",
    "        \n",
    "        self.decoder = nn.Sequential(nn.Linear(latent_size, linear_dim),\n",
    "                                     nn.ReLU(), \n",
    "                                     nn.Unflatten(dim=1, unflattened_size=((hidden_size), (input_size//4), (input_size//4))),\n",
    "                                     nn.ConvTranspose2d(hidden_size, hidden_size//2, kernel_size=2, stride=2), \n",
    "                                     nn.ConvTranspose2d(hidden_size//2, 1, kernel_size=2, stride=2), \n",
    "                                     nn.Sigmoid())\n",
    "\n",
    "    def forward(self, x):\n",
    "        x_e = self.encoder(x) \n",
    "    \n",
    "        return self.decoder(x_e), x_e"
   ]
  },
  {
   "cell_type": "code",
   "execution_count": 11,
   "metadata": {},
   "outputs": [],
   "source": [
    "train_loader = torch.utils.data.DataLoader(train_set, batch_size=1024, shuffle=True, pin_memory=True)\n",
    "val_loader = torch.utils.data.DataLoader(val_set, batch_size=len(val_set), shuffle=False, pin_memory=True)\n",
    "test_loader = torch.utils.data.DataLoader(test_data, batch_size=len(test_data), pin_memory=True)"
   ]
  },
  {
   "cell_type": "code",
   "execution_count": 24,
   "metadata": {},
   "outputs": [],
   "source": [
    "def contractive_loss_function(base_loss, out_e, x, lamda):\n",
    "    \n",
    "    out_e.backward(gradient = torch.ones(out_e.size()).to(device), retain_graph=True)    \n",
    "    # Frobenious norm, the square root of sum of all elements (square value) in a jacobian matrix \n",
    "    # loss2 = torch.sqrt(torch.sum(torch.pow(x.grad,2)))\n",
    "    loss2 = torch.linalg.norm(x.grad)\n",
    "    x.grad.data.zero_()\n",
    "    loss = base_loss + (lamda*loss2) \n",
    "    return loss "
   ]
  },
  {
   "cell_type": "code",
   "execution_count": 13,
   "metadata": {},
   "outputs": [],
   "source": [
    "class Configuration:\n",
    "        def __init__(self, learning_rate, batch_size, epochs, weight_decay, hidden_size, autoencoder_type, latent_size, cae_penalization):\n",
    "            self.learning_rate = learning_rate\n",
    "            self.batch_size = batch_size\n",
    "            self.epochs = epochs\n",
    "            self.weight_decay = weight_decay\n",
    "            self.hidden_size = hidden_size\n",
    "            self.latent_size = latent_size\n",
    "            self.autoencoder_type = autoencoder_type\n",
    "            self.cae_penalization = cae_penalization\n",
    "        \n",
    "config_cae = Configuration(learning_rate = 0.01,\n",
    "                        batch_size = 1024,\n",
    "                        epochs = 20,\n",
    "                        weight_decay = 1e-5,\n",
    "                        hidden_size = 32,\n",
    "                        latent_size=128,\n",
    "                        autoencoder_type = 'cae',\n",
    "                        cae_penalization = 1e-5)\n",
    "\n",
    "config_dae = Configuration(learning_rate = 0.01,\n",
    "                        batch_size = 1024,\n",
    "                        epochs = 20,\n",
    "                        weight_decay = 1e-5,\n",
    "                        hidden_size = 32,\n",
    "                        latent_size=128,\n",
    "                        autoencoder_type = 'dae',\n",
    "                        cae_penalization = 1e-5)"
   ]
  },
  {
   "cell_type": "code",
   "execution_count": 26,
   "metadata": {},
   "outputs": [],
   "source": [
    "def train(config:Configuration=None):\n",
    "    #with wandb.init(config):\n",
    "        mode = 'dae'\n",
    "\n",
    "        model = ConvAE(hidden_size=config.hidden_size, latent_size=config.latent_size).to(device)\n",
    "\n",
    "        optimizer = torch.optim.Adam(model.parameters(), lr=config.learning_rate, weight_decay=config.weight_decay)\n",
    "        criterion = torch.nn.MSELoss()\n",
    "        val_criterion = torch.nn.L1Loss()\n",
    "\n",
    "        epochs = config.epochs\n",
    "        for epoch in range(epochs):\n",
    "            model.train()\n",
    "            tr_epoch_loss = 0\n",
    "            for i, (input_img, _) in enumerate(train_loader):\n",
    "                optimizer.zero_grad()\n",
    "\n",
    "                input_img = input_img.to(device)\n",
    "\n",
    "                if config.autoencoder_type == 'dae':\n",
    "                    img_noisy = add_noise(input_img)\n",
    "                    out, _ = model(img_noisy)\n",
    "                \n",
    "                    tr_loss = criterion(out, input_img)\n",
    "                    tr_epoch_loss += tr_loss.item()\n",
    "\n",
    "                else:\n",
    "                    input_img.requires_grad_(True)\n",
    "                    \n",
    "                    out, out_e = model(input_img)\n",
    "                    base_loss = criterion(out, input_img)\n",
    "                    tr_loss = contractive_loss_function(base_loss=base_loss, out_e=out_e, x=input_img, lamda=config.cae_penalization)\n",
    "                    tr_epoch_loss += base_loss.item()\n",
    "\n",
    "                    input_img.requires_grad_(False)\n",
    "                    optimizer.zero_grad()\n",
    "\n",
    "                tr_loss.backward()\n",
    "                optimizer.step()\n",
    "\n",
    "            model.eval()\n",
    "            with torch.no_grad():\n",
    "                for input_img, _ in val_loader:\n",
    "                    \n",
    "                    input_img = input_img.to(device)\n",
    "                    out, _ = model(input_img)\n",
    "                        \n",
    "                    val_loss = val_criterion(out, input_img)\n",
    "                    bce_val_loss = criterion(out, input_img)\n",
    "\n",
    "                print(f\"epoch [{epoch + 1}/{epochs}], tr_loss: {tr_epoch_loss/(i+1):.4f}, L1_val_loss: {val_loss.item():.4f}, MSE_val_loss: {bce_val_loss.item():.4f}\")\n",
    "        \n",
    "        return model"
   ]
  },
  {
   "cell_type": "code",
   "execution_count": 27,
   "metadata": {},
   "outputs": [
    {
     "name": "stdout",
     "output_type": "stream",
     "text": [
      "epoch [1/20], tr_loss: 0.0748, L1_val_loss: 0.1180, MSE_val_loss: 0.0526\n",
      "epoch [2/20], tr_loss: 0.0371, L1_val_loss: 0.0687, MSE_val_loss: 0.0270\n",
      "epoch [3/20], tr_loss: 0.0234, L1_val_loss: 0.0539, MSE_val_loss: 0.0202\n",
      "epoch [4/20], tr_loss: 0.0183, L1_val_loss: 0.0480, MSE_val_loss: 0.0169\n",
      "epoch [5/20], tr_loss: 0.0168, L1_val_loss: 0.0438, MSE_val_loss: 0.0151\n",
      "epoch [6/20], tr_loss: 0.0145, L1_val_loss: 0.0413, MSE_val_loss: 0.0136\n",
      "epoch [7/20], tr_loss: 0.0133, L1_val_loss: 0.0400, MSE_val_loss: 0.0135\n",
      "epoch [8/20], tr_loss: 0.0129, L1_val_loss: 0.0364, MSE_val_loss: 0.0115\n",
      "epoch [9/20], tr_loss: 0.0118, L1_val_loss: 0.0357, MSE_val_loss: 0.0112\n",
      "epoch [10/20], tr_loss: 0.0114, L1_val_loss: 0.0352, MSE_val_loss: 0.0110\n",
      "epoch [11/20], tr_loss: 0.0106, L1_val_loss: 0.0344, MSE_val_loss: 0.0107\n",
      "epoch [12/20], tr_loss: 0.0109, L1_val_loss: 0.0352, MSE_val_loss: 0.0110\n",
      "epoch [13/20], tr_loss: 0.0104, L1_val_loss: 0.0325, MSE_val_loss: 0.0097\n",
      "epoch [14/20], tr_loss: 0.0102, L1_val_loss: 0.0327, MSE_val_loss: 0.0098\n",
      "epoch [15/20], tr_loss: 0.0105, L1_val_loss: 0.0350, MSE_val_loss: 0.0109\n",
      "epoch [16/20], tr_loss: 0.0101, L1_val_loss: 0.0324, MSE_val_loss: 0.0096\n",
      "epoch [17/20], tr_loss: 0.0109, L1_val_loss: 0.0362, MSE_val_loss: 0.0114\n",
      "epoch [18/20], tr_loss: 0.0096, L1_val_loss: 0.0310, MSE_val_loss: 0.0091\n",
      "epoch [19/20], tr_loss: 0.0096, L1_val_loss: 0.0319, MSE_val_loss: 0.0097\n",
      "epoch [20/20], tr_loss: 0.0096, L1_val_loss: 0.0312, MSE_val_loss: 0.0091\n"
     ]
    }
   ],
   "source": [
    "model = train(config_cae)"
   ]
  },
  {
   "cell_type": "code",
   "execution_count": 29,
   "metadata": {},
   "outputs": [
    {
     "data": {
      "image/png": "[encoded data removed]",
      "text/plain": [
       "<Figure size 1500x1500 with 3 Axes>"
      ]
     },
     "metadata": {},
     "output_type": "display_data"
    }
   ],
   "source": [
    "j = 2\n",
    "fig, ax = plt.subplots(1, 3, figsize=(15, 15))\n",
    "x, _ = train_set[j]\n",
    "x_noisy = add_noise(x.to(device))\n",
    "x_squeeze = x.unsqueeze(0)\n",
    "\n",
    "with torch.no_grad():\n",
    "    ax[0].imshow(x.numpy()[0], cmap='gray')\n",
    "    ax[1].imshow(x_noisy.to('cpu').numpy()[0], cmap='gray')\n",
    "    out, _ = model(x_noisy.to(device).unsqueeze(0))\n",
    "    ax[2].imshow(numpy.reshape((out.cpu().numpy()[0]), (28, 28)), cmap='gray')"
   ]
  },
  {
   "cell_type": "code",
   "execution_count": 31,
   "metadata": {},
   "outputs": [
    {
     "name": "stdout",
     "output_type": "stream",
     "text": [
      "epoch [1/20], tr_loss: 0.0828, L1_val_loss: 0.1362, MSE_val_loss: 0.0738\n",
      "epoch [2/20], tr_loss: 0.0720, L1_val_loss: 0.2109, MSE_val_loss: 0.0835\n",
      "epoch [3/20], tr_loss: 0.0505, L1_val_loss: 0.1187, MSE_val_loss: 0.0471\n",
      "epoch [4/20], tr_loss: 0.0326, L1_val_loss: 0.0745, MSE_val_loss: 0.0268\n",
      "epoch [5/20], tr_loss: 0.0263, L1_val_loss: 0.0698, MSE_val_loss: 0.0244\n",
      "epoch [6/20], tr_loss: 0.0229, L1_val_loss: 0.0584, MSE_val_loss: 0.0200\n",
      "epoch [7/20], tr_loss: 0.0209, L1_val_loss: 0.0524, MSE_val_loss: 0.0172\n",
      "epoch [8/20], tr_loss: 0.0196, L1_val_loss: 0.0497, MSE_val_loss: 0.0157\n",
      "epoch [9/20], tr_loss: 0.0185, L1_val_loss: 0.0471, MSE_val_loss: 0.0152\n",
      "epoch [10/20], tr_loss: 0.0178, L1_val_loss: 0.0470, MSE_val_loss: 0.0144\n",
      "epoch [11/20], tr_loss: 0.0174, L1_val_loss: 0.0439, MSE_val_loss: 0.0140\n",
      "epoch [12/20], tr_loss: 0.0165, L1_val_loss: 0.0425, MSE_val_loss: 0.0128\n",
      "epoch [13/20], tr_loss: 0.0160, L1_val_loss: 0.0426, MSE_val_loss: 0.0130\n",
      "epoch [14/20], tr_loss: 0.0160, L1_val_loss: 0.0414, MSE_val_loss: 0.0124\n",
      "epoch [15/20], tr_loss: 0.0155, L1_val_loss: 0.0406, MSE_val_loss: 0.0120\n",
      "epoch [16/20], tr_loss: 0.0152, L1_val_loss: 0.0404, MSE_val_loss: 0.0120\n",
      "epoch [17/20], tr_loss: 0.0152, L1_val_loss: 0.0399, MSE_val_loss: 0.0119\n",
      "epoch [18/20], tr_loss: 0.0150, L1_val_loss: 0.0396, MSE_val_loss: 0.0114\n",
      "epoch [19/20], tr_loss: 0.0151, L1_val_loss: 0.0444, MSE_val_loss: 0.0133\n",
      "epoch [20/20], tr_loss: 0.0150, L1_val_loss: 0.0392, MSE_val_loss: 0.0114\n"
     ]
    },
    {
     "data": {
      "image/png": "[encoded data removed]",
      "text/plain": [
       "<Figure size 1500x1500 with 3 Axes>"
      ]
     },
     "metadata": {},
     "output_type": "display_data"
    }
   ],
   "source": [
    "model = train(config_dae)\n",
    "\n",
    "j = 2\n",
    "fig, ax = plt.subplots(1, 3, figsize=(15, 15))\n",
    "x, _ = train_set[j]\n",
    "x_noisy = add_noise(x.to(device))\n",
    "x_squeeze = x.unsqueeze(0)\n",
    "\n",
    "with torch.no_grad():\n",
    "    ax[0].imshow(x.numpy()[0], cmap='gray')\n",
    "    ax[1].imshow(x_noisy.to('cpu').numpy()[0], cmap='gray')\n",
    "    out, _ = model(x_noisy.to(device).unsqueeze(0))\n",
    "    ax[2].imshow(numpy.reshape((out.cpu().numpy()[0]), (28, 28)), cmap='gray')"
   ]
  },
  {
   "cell_type": "code",
   "execution_count": null,
   "metadata": {},
   "outputs": [],
   "source": []
  }
 ],
 "metadata": {
  "kernelspec": {
   "display_name": "ispr",
   "language": "python",
   "name": "python3"
  },
  "language_info": {
   "codemirror_mode": {
    "name": "ipython",
    "version": 3
   },
   "file_extension": ".py",
   "mimetype": "text/x-python",
   "name": "python",
   "nbconvert_exporter": "python",
   "pygments_lexer": "ipython3",
   "version": "3.12.2"
  }
 },
 "nbformat": 4,
 "nbformat_minor": 2
}
