{
 "cells": [
  {
   "cell_type": "code",
   "execution_count": 1,
   "metadata": {},
   "outputs": [],
   "source": [
    "import torch\n",
    "import numpy\n",
    "import torch.nn as nn\n",
    "from torchvision import transforms\n",
    "import torchvision.datasets\n",
    "import matplotlib.pyplot as plt\n",
    "import math\n",
    "\n",
    "device = 'cuda' if torch.cuda.is_available() else 'cpu'"
   ]
  },
  {
   "cell_type": "code",
   "execution_count": 2,
   "metadata": {},
   "outputs": [],
   "source": [
    "train_size = 0.8\n",
    "val_size = 0.2\n",
    "generator = torch.Generator().manual_seed(42)"
   ]
  },
  {
   "cell_type": "code",
   "execution_count": 3,
   "metadata": {},
   "outputs": [],
   "source": [
    "def normalization(tensor, min_value, max_value):\n",
    "    min_tensor = tensor.min()\n",
    "    tensor = (tensor - min_tensor)\n",
    "    max_tensor = tensor.max()\n",
    "    tensor = tensor / max_tensor\n",
    "    tensor = tensor * (max_value - min_value) + min_value\n",
    "    \n",
    "    return torch.round(tensor)\n",
    "\n",
    "\n",
    "img_transform = transforms.Compose([\n",
    "    transforms.ToTensor(),\n",
    "    transforms.Lambda(lambda tensor:normalization(tensor, 0, 1))\n",
    "])\n",
    "\n",
    "def add_noise(img_tensor, std=0.4):\n",
    "    return (img_tensor + torch.randn(img_tensor.size(), generator=generator) * std)"
   ]
  },
  {
   "cell_type": "code",
   "execution_count": 4,
   "metadata": {},
   "outputs": [],
   "source": [
    "train_data  = torchvision.datasets.MNIST(\"./data\", train=True, transform=img_transform, download=False)\n",
    "test_data = torchvision.datasets.MNIST(\"./data\", train=False, transform=img_transform, download=False)\n",
    "\n",
    "data_size = len(train_data)"
   ]
  },
  {
   "cell_type": "code",
   "execution_count": 5,
   "metadata": {},
   "outputs": [
    {
     "data": {
      "text/plain": [
       "(60000, 10000)"
      ]
     },
     "execution_count": 5,
     "metadata": {},
     "output_type": "execute_result"
    }
   ],
   "source": [
    "len(train_data), len(test_data)"
   ]
  },
  {
   "cell_type": "code",
   "execution_count": 6,
   "metadata": {},
   "outputs": [],
   "source": [
    "train_set, val_set = torch.utils.data.random_split(train_data, [int(train_size*data_size), int(val_size*data_size)], generator=generator)"
   ]
  },
  {
   "cell_type": "code",
   "execution_count": 7,
   "metadata": {},
   "outputs": [
    {
     "data": {
      "text/plain": [
       "(48000, 12000)"
      ]
     },
     "execution_count": 7,
     "metadata": {},
     "output_type": "execute_result"
    }
   ],
   "source": [
    "len(train_set), len(val_set)"
   ]
  },
  {
   "cell_type": "code",
   "execution_count": 8,
   "metadata": {},
   "outputs": [
    {
     "name": "stdout",
     "output_type": "stream",
     "text": [
      "cpu\n"
     ]
    },
    {
     "data": {
      "text/plain": [
       "<matplotlib.image.AxesImage at 0x7faa64150500>"
      ]
     },
     "execution_count": 8,
     "metadata": {},
     "output_type": "execute_result"
    },
    {
     "data": {
      "image/png": "[encoded data removed]",
      "text/plain": [
       "<Figure size 640x480 with 2 Axes>"
      ]
     },
     "metadata": {},
     "output_type": "display_data"
    }
   ],
   "source": [
    "fig, ax = plt.subplots(1, 2)\n",
    "j = 69\n",
    "x, _ = train_set[j]\n",
    "print(x.device)\n",
    "ax[0].imshow(x.numpy()[0], cmap='gray')\n",
    "ax[1].imshow(add_noise(x).numpy()[0], cmap='gray')"
   ]
  },
  {
   "cell_type": "code",
   "execution_count": 9,
   "metadata": {},
   "outputs": [],
   "source": [
    "class ConvAE(nn.Module):\n",
    "    def __init__(self, input_dim = 28, hidden_dim:int = 16, latent_dim:int = 32, kernel_size:int = 3):\n",
    "        super(ConvAE, self).__init__()\n",
    "\n",
    "        linear_dim = (hidden_dim) * (input_dim//4) * (input_dim//4)\n",
    "        pad = (kernel_size - 1) // 2\n",
    "\n",
    "        self.encoder = nn.Sequential(nn.Conv2d(1, hidden_dim//2, kernel_size=kernel_size, padding=pad),\n",
    "                                     nn.ReLU(), \n",
    "                                     nn.MaxPool2d(2, 2),\n",
    "                                     nn.Conv2d(hidden_dim//2, hidden_dim, kernel_size=kernel_size, padding=pad),\n",
    "                                     nn.ReLU(),\n",
    "                                     nn.MaxPool2d(2, 2),\n",
    "                                     nn.Flatten(),\n",
    "                                     nn.Linear(linear_dim, latent_dim),\n",
    "                                     nn.ReLU()\n",
    "                                     )\n",
    "        \n",
    "        self.decoder = nn.Sequential(nn.Linear(latent_dim, linear_dim),\n",
    "                                     nn.ReLU(), \n",
    "                                     nn.Unflatten(dim=1, unflattened_size=((hidden_dim), (input_dim//4), (input_dim//4))),\n",
    "                                     nn.ConvTranspose2d(hidden_dim, hidden_dim//2, kernel_size=2, stride=2), \n",
    "                                     nn.ConvTranspose2d(hidden_dim//2, 1, kernel_size=2, stride=2), \n",
    "                                     nn.Sigmoid())\n",
    "\n",
    "    def forward(self, x):\n",
    "        x = self.encoder(x) \n",
    "    \n",
    "        return self.decoder(x)"
   ]
  },
  {
   "cell_type": "code",
   "execution_count": 10,
   "metadata": {},
   "outputs": [],
   "source": [
    "train_loader = torch.utils.data.DataLoader(train_set, batch_size=1024, shuffle=True)\n",
    "val_loader = torch.utils.data.DataLoader(val_set, batch_size=len(val_set), shuffle=False)\n",
    "test_loader = torch.utils.data.DataLoader(test_data, batch_size=len(test_data))"
   ]
  },
  {
   "cell_type": "code",
   "execution_count": 11,
   "metadata": {},
   "outputs": [
    {
     "name": "stdout",
     "output_type": "stream",
     "text": [
      "epoch [1/50], tr_loss: 0.2867, val_loss: 0.3451\n",
      "epoch [2/50], tr_loss: 0.1960, val_loss: 0.1722\n",
      "epoch [3/50], tr_loss: 0.1544, val_loss: 0.1454\n",
      "epoch [4/50], tr_loss: 0.1321, val_loss: 0.1202\n",
      "epoch [5/50], tr_loss: 0.1183, val_loss: 0.1103\n",
      "epoch [6/50], tr_loss: 0.1109, val_loss: 0.1054\n",
      "epoch [7/50], tr_loss: 0.1059, val_loss: 0.0953\n",
      "epoch [8/50], tr_loss: 0.1026, val_loss: 0.0907\n",
      "epoch [9/50], tr_loss: 0.0990, val_loss: 0.0865\n",
      "epoch [10/50], tr_loss: 0.0965, val_loss: 0.0869\n",
      "epoch [11/50], tr_loss: 0.0954, val_loss: 0.0842\n",
      "epoch [12/50], tr_loss: 0.0943, val_loss: 0.0840\n",
      "epoch [13/50], tr_loss: 0.0917, val_loss: 0.0806\n",
      "epoch [14/50], tr_loss: 0.0943, val_loss: 0.0807\n",
      "epoch [15/50], tr_loss: 0.0890, val_loss: 0.0795\n",
      "epoch [16/50], tr_loss: 0.0889, val_loss: 0.0826\n",
      "epoch [17/50], tr_loss: 0.0910, val_loss: 0.0850\n",
      "epoch [18/50], tr_loss: 0.0884, val_loss: 0.0750\n",
      "epoch [19/50], tr_loss: 0.0846, val_loss: 0.0730\n",
      "epoch [20/50], tr_loss: 0.0850, val_loss: 0.0722\n",
      "epoch [21/50], tr_loss: 0.0869, val_loss: 0.0919\n",
      "epoch [22/50], tr_loss: 0.0876, val_loss: 0.0723\n",
      "epoch [23/50], tr_loss: 0.0825, val_loss: 0.0707\n",
      "epoch [24/50], tr_loss: 0.0841, val_loss: 0.0778\n",
      "epoch [25/50], tr_loss: 0.0830, val_loss: 0.0724\n",
      "epoch [26/50], tr_loss: 0.0814, val_loss: 0.0698\n",
      "epoch [27/50], tr_loss: 0.0895, val_loss: 0.1002\n",
      "epoch [28/50], tr_loss: 0.0875, val_loss: 0.0721\n",
      "epoch [29/50], tr_loss: 0.0802, val_loss: 0.0690\n",
      "epoch [30/50], tr_loss: 0.0852, val_loss: 0.0766\n",
      "epoch [31/50], tr_loss: 0.0800, val_loss: 0.0710\n",
      "epoch [32/50], tr_loss: 0.0784, val_loss: 0.0674\n",
      "epoch [33/50], tr_loss: 0.0788, val_loss: 0.0705\n",
      "epoch [34/50], tr_loss: 0.0786, val_loss: 0.0675\n",
      "epoch [35/50], tr_loss: 0.0787, val_loss: 0.0740\n",
      "epoch [36/50], tr_loss: 0.0777, val_loss: 0.0660\n",
      "epoch [37/50], tr_loss: 0.0777, val_loss: 0.0698\n",
      "epoch [38/50], tr_loss: 0.0785, val_loss: 0.0717\n",
      "epoch [39/50], tr_loss: 0.0778, val_loss: 0.0688\n",
      "epoch [40/50], tr_loss: 0.0801, val_loss: 0.0720\n",
      "epoch [41/50], tr_loss: 0.0780, val_loss: 0.0680\n",
      "epoch [42/50], tr_loss: 0.0764, val_loss: 0.0693\n",
      "epoch [43/50], tr_loss: 0.0770, val_loss: 0.0683\n",
      "epoch [44/50], tr_loss: 0.0771, val_loss: 0.0693\n",
      "epoch [45/50], tr_loss: 0.0776, val_loss: 0.0652\n",
      "epoch [46/50], tr_loss: 0.0764, val_loss: 0.0685\n",
      "epoch [47/50], tr_loss: 0.0780, val_loss: 0.0675\n",
      "epoch [48/50], tr_loss: 0.0759, val_loss: 0.0651\n",
      "epoch [49/50], tr_loss: 0.0751, val_loss: 0.0656\n",
      "epoch [50/50], tr_loss: 0.0781, val_loss: 0.0667\n"
     ]
    },
    {
     "data": {
      "image/png": "[encoded data removed]",
      "text/plain": [
       "<Figure size 1500x1500 with 3 Axes>"
      ]
     },
     "metadata": {},
     "output_type": "display_data"
    }
   ],
   "source": [
    "j = 2\n",
    "fig, ax = plt.subplots(1, 3, figsize=(15, 15))\n",
    "x, _ = train_set[j]\n",
    "x_noisy = add_noise(x)\n",
    "x_squeeze = x.unsqueeze(0)\n",
    "\n",
    "model = ConvAE(hidden_dim=32, latent_dim=128).to(device)\n",
    "\n",
    "optimizer = torch.optim.Adam(model.parameters(), lr=0.01, weight_decay=1e-5)\n",
    "criterion = torch.nn.BCELoss()\n",
    "\n",
    "epochs = 50\n",
    "for epoch in range(epochs):\n",
    "    model.train()\n",
    "    tr_epoch_loss = 0\n",
    "    for i, (input_img, _) in enumerate(train_loader):\n",
    "        optimizer.zero_grad()\n",
    "        \n",
    "        img_noisy = add_noise(input_img).to(device)\n",
    "        out = model(img_noisy)\n",
    "        \n",
    "        \n",
    "        input_img = input_img.to(device)\n",
    "        tr_loss = criterion(out, input_img)\n",
    "\n",
    "        tr_loss.backward()\n",
    "        optimizer.step()\n",
    "        \n",
    "        tr_epoch_loss += tr_loss.item()\n",
    "\n",
    "\n",
    "    model.eval()\n",
    "    with torch.no_grad():\n",
    "        for j, (input_img, _) in enumerate(val_loader):\n",
    "            input_img = input_img.to(device)\n",
    "            out = model(input_img)\n",
    "                \n",
    "            val_loss = criterion(out, input_img)\n",
    "\n",
    "        print(f\"epoch [{epoch + 1}/{epochs}], tr_loss: {tr_epoch_loss/(i+1):.4f}, val_loss: {val_loss.item():.4f}\")\n",
    "\n",
    "\n",
    "with torch.no_grad():\n",
    "    ax[0].imshow(x.numpy()[0], cmap='gray')\n",
    "    ax[1].imshow(x_noisy.numpy()[0], cmap='gray')\n",
    "    out = model(x_noisy.to(device).unsqueeze(0))\n",
    "    ax[2].imshow(numpy.reshape((out.cpu().numpy()[0]), (28, 28)), cmap='gray')"
   ]
  },
  {
   "cell_type": "code",
   "execution_count": 13,
   "metadata": {},
   "outputs": [
    {
     "name": "stdout",
     "output_type": "stream",
     "text": [
      "val_loss: 0.0651\n"
     ]
    }
   ],
   "source": [
    "model.eval()\n",
    "with torch.no_grad():\n",
    "    for j, (input_img, _) in enumerate(test_loader):\n",
    "        input_img = input_img.to(device)\n",
    "        out = model(input_img)\n",
    "                \n",
    "        test_loss = criterion(out, input_img)\n",
    "\n",
    "    print(f\"val_loss: {test_loss.item():.4f}\")"
   ]
  }
 ],
 "metadata": {
  "kernelspec": {
   "display_name": "ispr",
   "language": "python",
   "name": "python3"
  },
  "language_info": {
   "codemirror_mode": {
    "name": "ipython",
    "version": 3
   },
   "file_extension": ".py",
   "mimetype": "text/x-python",
   "name": "python",
   "nbconvert_exporter": "python",
   "pygments_lexer": "ipython3",
   "version": "3.12.2"
  }
 },
 "nbformat": 4,
 "nbformat_minor": 2
}
