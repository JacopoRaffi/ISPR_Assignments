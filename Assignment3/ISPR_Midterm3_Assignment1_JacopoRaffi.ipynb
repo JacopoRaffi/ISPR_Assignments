{
 "cells": [
  {
   "cell_type": "code",
   "execution_count": 1,
   "metadata": {},
   "outputs": [],
   "source": [
    "import torch\n",
    "import numpy\n",
    "import torch.nn as nn\n",
    "from torchvision import transforms\n",
    "import torchvision.datasets\n",
    "import matplotlib.pyplot as plt\n",
    "import math\n",
    "\n",
    "device = 'cuda' if torch.cuda.is_available() else 'cpu'"
   ]
  },
  {
   "cell_type": "code",
   "execution_count": 2,
   "metadata": {},
   "outputs": [],
   "source": [
    "train_size = 0.8\n",
    "val_size = 0.2\n",
    "generator = torch.Generator().manual_seed(42)"
   ]
  },
  {
   "cell_type": "code",
   "execution_count": 3,
   "metadata": {},
   "outputs": [],
   "source": [
    "def normalization(tensor, min_value, max_value):\n",
    "    min_tensor = tensor.min()\n",
    "    tensor = (tensor - min_tensor)\n",
    "    max_tensor = tensor.max()\n",
    "    tensor = tensor / max_tensor\n",
    "    tensor = tensor * (max_value - min_value) + min_value\n",
    "    \n",
    "    return torch.round(tensor)\n",
    "\n",
    "\n",
    "img_transform = transforms.Compose([\n",
    "    transforms.ToTensor(),\n",
    "    transforms.Lambda(lambda tensor:normalization(tensor, 0, 1))\n",
    "])\n",
    "\n",
    "def add_noise(img_tensor, std=0.4):\n",
    "    return (img_tensor + torch.randn(img_tensor.size(), generator=generator) * std)"
   ]
  },
  {
   "cell_type": "code",
   "execution_count": 4,
   "metadata": {},
   "outputs": [],
   "source": [
    "train_data  = torchvision.datasets.MNIST(\"./data\", train=True, transform=img_transform, download=False)\n",
    "test_data = torchvision.datasets.MNIST(\"./data\", train=False, transform=img_transform, download=False)\n",
    "\n",
    "data_size = len(train_data)"
   ]
  },
  {
   "cell_type": "code",
   "execution_count": 5,
   "metadata": {},
   "outputs": [
    {
     "data": {
      "text/plain": [
       "(60000, 10000)"
      ]
     },
     "execution_count": 5,
     "metadata": {},
     "output_type": "execute_result"
    }
   ],
   "source": [
    "len(train_data), len(test_data)"
   ]
  },
  {
   "cell_type": "code",
   "execution_count": 6,
   "metadata": {},
   "outputs": [],
   "source": [
    "train_set, val_set = torch.utils.data.random_split(train_data, [int(train_size*data_size), int(val_size*data_size)], generator=generator)"
   ]
  },
  {
   "cell_type": "code",
   "execution_count": 7,
   "metadata": {},
   "outputs": [
    {
     "data": {
      "text/plain": [
       "(48000, 12000)"
      ]
     },
     "execution_count": 7,
     "metadata": {},
     "output_type": "execute_result"
    }
   ],
   "source": [
    "len(train_set), len(val_set)"
   ]
  },
  {
   "cell_type": "code",
   "execution_count": 8,
   "metadata": {},
   "outputs": [
    {
     "name": "stdout",
     "output_type": "stream",
     "text": [
      "cpu\n"
     ]
    },
    {
     "data": {
      "text/plain": [
       "<matplotlib.image.AxesImage at 0x7f8c284b8470>"
      ]
     },
     "execution_count": 8,
     "metadata": {},
     "output_type": "execute_result"
    },
    {
     "data": {
      "image/png": "[encoded data removed]",
      "text/plain": [
       "<Figure size 640x480 with 2 Axes>"
      ]
     },
     "metadata": {},
     "output_type": "display_data"
    }
   ],
   "source": [
    "fig, ax = plt.subplots(1, 2)\n",
    "j = 69\n",
    "x, _ = train_set[j]\n",
    "print(x.device)\n",
    "ax[0].imshow(x.numpy()[0], cmap='gray')\n",
    "ax[1].imshow(add_noise(x).numpy()[0], cmap='gray')"
   ]
  },
  {
   "cell_type": "code",
   "execution_count": 10,
   "metadata": {},
   "outputs": [],
   "source": [
    "class ConvAE(nn.Module):\n",
    "    def __init__(self, input_dim = 28, hidden_dim:int = 16, latent_dim:int = 32, kernel_size:int = 3):\n",
    "        super(ConvAE, self).__init__()\n",
    "\n",
    "        linear_dim = (hidden_dim) * (input_dim//4) * (input_dim//4)\n",
    "\n",
    "        self.encoder = nn.Sequential(nn.Conv2d(1, hidden_dim//2, kernel_size=kernel_size, padding=1), # padding = 1 because of kernel = 3\n",
    "                                     nn.ReLU(), \n",
    "                                     nn.MaxPool2d(2, 2),\n",
    "                                     nn.Conv2d(hidden_dim//2, hidden_dim, kernel_size=kernel_size, padding=1),\n",
    "                                     nn.ReLU(),\n",
    "                                     nn.MaxPool2d(2, 2),\n",
    "                                     nn.Flatten(),\n",
    "                                     nn.Linear(linear_dim, latent_dim),\n",
    "                                     nn.ReLU()\n",
    "                                     )\n",
    "        \n",
    "        self.decoder = nn.Sequential(nn.Linear(latent_dim, linear_dim),\n",
    "                                     nn.ReLU(), \n",
    "                                     nn.Unflatten(dim=1, unflattened_size=((hidden_dim), (input_dim//4), (input_dim//4))),\n",
    "                                     nn.ConvTranspose2d(hidden_dim, hidden_dim//2, kernel_size=2, stride=2), \n",
    "                                     nn.ConvTranspose2d(hidden_dim//2, 1, kernel_size=2, stride=2), \n",
    "                                     nn.Sigmoid())\n",
    "\n",
    "    def forward(self, x):\n",
    "        x = self.encoder(x) \n",
    "    \n",
    "        return self.decoder(x)"
   ]
  },
  {
   "cell_type": "code",
   "execution_count": null,
   "metadata": {},
   "outputs": [],
   "source": [
    "train_loader = torch.utils.data.DataLoader(train_set, batch_size=1024, shuffle=True)\n",
    "val_loader = torch.utils.data.DataLoader(val_set, batch_size=len(val_set), shuffle=False)\n",
    "test_loader = torch.utils.data.DataLoader(test_data, batch_size=len(test_data))"
   ]
  },
  {
   "cell_type": "code",
   "execution_count": 14,
   "metadata": {},
   "outputs": [
    {
     "name": "stdout",
     "output_type": "stream",
     "text": [
      "epoch [1/51], tr_loss: 0.2750, val_loss: 0.2548\n",
      "epoch [2/51], tr_loss: 0.1844, val_loss: 0.1565\n",
      "epoch [3/51], tr_loss: 0.1347, val_loss: 0.1199\n",
      "epoch [4/51], tr_loss: 0.1190, val_loss: 0.1072\n",
      "epoch [5/51], tr_loss: 0.1093, val_loss: 0.0972\n",
      "epoch [6/51], tr_loss: 0.1039, val_loss: 0.0941\n",
      "epoch [7/51], tr_loss: 0.0991, val_loss: 0.0916\n",
      "epoch [8/51], tr_loss: 0.0953, val_loss: 0.0839\n",
      "epoch [9/51], tr_loss: 0.0930, val_loss: 0.0808\n",
      "epoch [10/51], tr_loss: 0.0902, val_loss: 0.0803\n",
      "epoch [11/51], tr_loss: 0.0883, val_loss: 0.0796\n",
      "epoch [12/51], tr_loss: 0.0871, val_loss: 0.0766\n",
      "epoch [13/51], tr_loss: 0.0865, val_loss: 0.0753\n",
      "epoch [14/51], tr_loss: 0.0854, val_loss: 0.0760\n",
      "epoch [15/51], tr_loss: 0.0848, val_loss: 0.0756\n",
      "epoch [16/51], tr_loss: 0.0833, val_loss: 0.0746\n",
      "epoch [17/51], tr_loss: 0.0827, val_loss: 0.0727\n",
      "epoch [18/51], tr_loss: 0.0866, val_loss: 0.0759\n",
      "epoch [19/51], tr_loss: 0.0806, val_loss: 0.0695\n",
      "epoch [20/51], tr_loss: 0.0826, val_loss: 0.0698\n",
      "epoch [21/51], tr_loss: 0.0813, val_loss: 0.0697\n",
      "epoch [22/51], tr_loss: 0.0790, val_loss: 0.0686\n",
      "epoch [23/51], tr_loss: 0.0791, val_loss: 0.0694\n",
      "epoch [24/51], tr_loss: 0.0792, val_loss: 0.0719\n",
      "epoch [25/51], tr_loss: 0.0794, val_loss: 0.0674\n",
      "epoch [26/51], tr_loss: 0.0799, val_loss: 0.0689\n",
      "epoch [27/51], tr_loss: 0.0857, val_loss: 0.0705\n",
      "epoch [28/51], tr_loss: 0.0774, val_loss: 0.0661\n",
      "epoch [29/51], tr_loss: 0.0763, val_loss: 0.0654\n",
      "epoch [30/51], tr_loss: 0.0766, val_loss: 0.0671\n",
      "epoch [31/51], tr_loss: 0.0764, val_loss: 0.0647\n",
      "epoch [32/51], tr_loss: 0.0773, val_loss: 0.0683\n",
      "epoch [33/51], tr_loss: 0.0770, val_loss: 0.0650\n",
      "epoch [34/51], tr_loss: 0.0753, val_loss: 0.0668\n",
      "epoch [35/51], tr_loss: 0.0761, val_loss: 0.0641\n",
      "epoch [36/51], tr_loss: 0.0746, val_loss: 0.0653\n",
      "epoch [37/51], tr_loss: 0.0745, val_loss: 0.0651\n",
      "epoch [38/51], tr_loss: 0.0749, val_loss: 0.0628\n",
      "epoch [39/51], tr_loss: 0.0761, val_loss: 0.0769\n",
      "epoch [40/51], tr_loss: 0.0786, val_loss: 0.0657\n",
      "epoch [41/51], tr_loss: 0.0742, val_loss: 0.0646\n",
      "epoch [42/51], tr_loss: 0.0750, val_loss: 0.0625\n",
      "epoch [43/51], tr_loss: 0.0760, val_loss: 0.0801\n",
      "epoch [44/51], tr_loss: 0.0767, val_loss: 0.0637\n",
      "epoch [45/51], tr_loss: 0.0735, val_loss: 0.0626\n",
      "epoch [46/51], tr_loss: 0.0737, val_loss: 0.0645\n",
      "epoch [47/51], tr_loss: 0.0762, val_loss: 0.0658\n",
      "epoch [48/51], tr_loss: 0.0733, val_loss: 0.0630\n",
      "epoch [49/51], tr_loss: 0.0729, val_loss: 0.0617\n",
      "epoch [50/51], tr_loss: 0.0741, val_loss: 0.0652\n",
      "epoch [51/51], tr_loss: 0.0763, val_loss: 0.0803\n"
     ]
    },
    {
     "data": {
      "image/png": "[encoded data removed]",
      "text/plain": [
       "<Figure size 1500x1500 with 3 Axes>"
      ]
     },
     "metadata": {},
     "output_type": "display_data"
    }
   ],
   "source": [
    "j = 2\n",
    "fig, ax = plt.subplots(1, 3, figsize=(15, 15))\n",
    "x, _ = train_set[j]\n",
    "x_noisy = add_noise(x)\n",
    "x_squeeze = x.unsqueeze(0)\n",
    "\n",
    "model = ConvAE(hidden_dim=32, latent_dim=128).to(device)\n",
    "\n",
    "optimizer = torch.optim.Adam(model.parameters(), lr=0.01, weight_decay=1e-5)\n",
    "criterion = torch.nn.BCELoss()\n",
    "\n",
    "epochs = 50\n",
    "for epoch in range(epochs):\n",
    "    model.train()\n",
    "    tr_epoch_loss = 0\n",
    "    for i, (input_img, _) in enumerate(train_loader):\n",
    "        optimizer.zero_grad()\n",
    "        \n",
    "        img_noisy = add_noise(input_img).to(device)\n",
    "        out = model(img_noisy)\n",
    "        \n",
    "        \n",
    "        input_img = input_img.to(device)\n",
    "        tr_loss = criterion(out, input_img)\n",
    "\n",
    "        tr_loss.backward()\n",
    "        optimizer.step()\n",
    "        \n",
    "        tr_epoch_loss += tr_loss.item()\n",
    "\n",
    "\n",
    "    model.eval()\n",
    "    with torch.no_grad():\n",
    "        for j, (input_img, _) in enumerate(val_loader):\n",
    "            input_img = input_img.to(device)\n",
    "            out = model(input_img)\n",
    "                \n",
    "            val_loss = criterion(out, input_img)\n",
    "\n",
    "        print(f\"epoch [{epoch + 1}/{epochs}], tr_loss: {tr_epoch_loss/(i+1):.4f}, val_loss: {val_loss.item():.4f}\")\n",
    "\n",
    "\n",
    "with torch.no_grad():\n",
    "    ax[0].imshow(x.numpy()[0], cmap='gray')\n",
    "    ax[1].imshow(x_noisy.numpy()[0], cmap='gray')\n",
    "    out = model(x_noisy.to(device).unsqueeze(0))\n",
    "    ax[2].imshow(numpy.reshape((out.cpu().numpy()[0]), (28, 28)), cmap='gray')"
   ]
  },
  {
   "cell_type": "code",
   "execution_count": null,
   "metadata": {},
   "outputs": [],
   "source": [
    "model.eval()\n",
    "with torch.no_grad():\n",
    "    for j, (input_img, _) in enumerate(test_loader):\n",
    "        input_img = input_img.to(device)\n",
    "        out = model(input_img)\n",
    "                \n",
    "        test_loss = criterion(out, input_img)\n",
    "\n",
    "    print(f\"val_loss: {test_loss.item():.4f}\")"
   ]
  }
 ],
 "metadata": {
  "kernelspec": {
   "display_name": "ispr",
   "language": "python",
   "name": "python3"
  },
  "language_info": {
   "codemirror_mode": {
    "name": "ipython",
    "version": 3
   },
   "file_extension": ".py",
   "mimetype": "text/x-python",
   "name": "python",
   "nbconvert_exporter": "python",
   "pygments_lexer": "ipython3",
   "version": "3.12.2"
  }
 },
 "nbformat": 4,
 "nbformat_minor": 2
}
