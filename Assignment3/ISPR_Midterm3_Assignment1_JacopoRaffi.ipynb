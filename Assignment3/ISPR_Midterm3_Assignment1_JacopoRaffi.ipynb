{
 "cells": [
  {
   "cell_type": "code",
   "execution_count": 21,
   "metadata": {},
   "outputs": [],
   "source": [
    "import torch\n",
    "import numpy\n",
    "import torch.nn as nn\n",
    "from torchvision import transforms\n",
    "import torchvision.datasets\n",
    "import matplotlib.pyplot as plt\n",
    "import math\n",
    "import torch.utils.data\n",
    "\n",
    "device = 'cuda' if torch.cuda.is_available() else 'cpu'"
   ]
  },
  {
   "cell_type": "code",
   "execution_count": 22,
   "metadata": {},
   "outputs": [],
   "source": [
    "train_size = 0.8\n",
    "val_size = 0.2\n",
    "generator_gpu = torch.Generator(device=device).manual_seed(42)\n",
    "generator = torch.Generator().manual_seed(42)"
   ]
  },
  {
   "cell_type": "code",
   "execution_count": 23,
   "metadata": {},
   "outputs": [],
   "source": [
    "'''def normalization(tensor, min_value, max_value):\n",
    "    min_tensor = tensor.min()\n",
    "    tensor = (tensor - min_tensor)\n",
    "    max_tensor = tensor.max()\n",
    "    tensor = tensor / max_tensor\n",
    "    tensor = tensor * (max_value - min_value) + min_value\n",
    "    \n",
    "    return torch.round(tensor)\n",
    "\n",
    "\n",
    "img_transform = transforms.Compose([\n",
    "    transforms.ToTensor(),\n",
    "    transforms.Lambda(lambda tensor:normalization(tensor, 0, 1))\n",
    "])\n",
    "'''\n",
    "def add_noise(img_tensor, std=0.4):\n",
    "    return (img_tensor + torch.randn(img_tensor.size(), generator=generator_gpu, device=device) * std)"
   ]
  },
  {
   "cell_type": "code",
   "execution_count": 24,
   "metadata": {},
   "outputs": [],
   "source": [
    "train_data  = torchvision.datasets.MNIST(\"./data\", train=True, transform=transforms.ToTensor(), download=False)\n",
    "test_data = torchvision.datasets.MNIST(\"./data\", train=False, transform=transforms.ToTensor(), download=False)\n",
    "\n",
    "data_size = len(train_data)"
   ]
  },
  {
   "cell_type": "code",
   "execution_count": 25,
   "metadata": {},
   "outputs": [
    {
     "data": {
      "text/plain": [
       "(60000, 10000)"
      ]
     },
     "execution_count": 25,
     "metadata": {},
     "output_type": "execute_result"
    }
   ],
   "source": [
    "len(train_data), len(test_data)"
   ]
  },
  {
   "cell_type": "code",
   "execution_count": 26,
   "metadata": {},
   "outputs": [],
   "source": [
    "train_set, val_set = torch.utils.data.random_split(train_data, [int(train_size*data_size), int(val_size*data_size)], generator=generator)"
   ]
  },
  {
   "cell_type": "code",
   "execution_count": 27,
   "metadata": {},
   "outputs": [
    {
     "data": {
      "text/plain": [
       "(48000, 12000)"
      ]
     },
     "execution_count": 27,
     "metadata": {},
     "output_type": "execute_result"
    }
   ],
   "source": [
    "len(train_set), len(val_set)"
   ]
  },
  {
   "cell_type": "code",
   "execution_count": 28,
   "metadata": {},
   "outputs": [
    {
     "data": {
      "text/plain": [
       "<matplotlib.image.AxesImage at 0x7fcf0c385b80>"
      ]
     },
     "execution_count": 28,
     "metadata": {},
     "output_type": "execute_result"
    },
    {
     "data": {
      "image/png": "[encoded data removed]",
      "text/plain": [
       "<Figure size 640x480 with 2 Axes>"
      ]
     },
     "metadata": {},
     "output_type": "display_data"
    }
   ],
   "source": [
    "fig, ax = plt.subplots(1, 2)\n",
    "j = 69\n",
    "x, _ = train_set[j]\n",
    "ax[0].imshow(x.numpy()[0], cmap='gray')\n",
    "ax[1].imshow(add_noise(x.to(device)).cpu().numpy()[0], cmap='gray')"
   ]
  },
  {
   "cell_type": "code",
   "execution_count": 29,
   "metadata": {},
   "outputs": [],
   "source": [
    "class ConvAE(nn.Module):\n",
    "    def __init__(self, input_dim = 28, hidden_dim:int = 16, latent_dim:int = 32, kernel_size:int = 3):\n",
    "        super(ConvAE, self).__init__()\n",
    "\n",
    "        linear_dim = (hidden_dim) * (input_dim//4) * (input_dim//4)\n",
    "        pad = (kernel_size - 1) // 2\n",
    "\n",
    "        self.encoder = nn.Sequential(nn.Conv2d(1, hidden_dim//2, kernel_size=kernel_size, padding=pad),\n",
    "                                     nn.ReLU(), \n",
    "                                     nn.MaxPool2d(2, 2),\n",
    "                                     nn.Conv2d(hidden_dim//2, hidden_dim, kernel_size=kernel_size, padding=pad),\n",
    "                                     nn.ReLU(),\n",
    "                                     nn.MaxPool2d(2, 2),\n",
    "                                     nn.Flatten(),\n",
    "                                     nn.Linear(linear_dim, latent_dim),\n",
    "                                     nn.ReLU()\n",
    "                                     )\n",
    "        \n",
    "        self.decoder = nn.Sequential(nn.Linear(latent_dim, linear_dim),\n",
    "                                     nn.ReLU(), \n",
    "                                     nn.Unflatten(dim=1, unflattened_size=((hidden_dim), (input_dim//4), (input_dim//4))),\n",
    "                                     nn.ConvTranspose2d(hidden_dim, hidden_dim//2, kernel_size=2, stride=2), \n",
    "                                     nn.ConvTranspose2d(hidden_dim//2, 1, kernel_size=2, stride=2), \n",
    "                                     nn.Sigmoid())\n",
    "\n",
    "    def forward(self, x):\n",
    "        x = self.encoder(x) \n",
    "    \n",
    "        return self.decoder(x)"
   ]
  },
  {
   "cell_type": "code",
   "execution_count": 30,
   "metadata": {},
   "outputs": [],
   "source": [
    "train_loader = torch.utils.data.DataLoader(train_set, batch_size=1024, shuffle=True, pin_memory=True)\n",
    "val_loader = torch.utils.data.DataLoader(val_set, batch_size=len(val_set), shuffle=False, pin_memory=True)\n",
    "test_loader = torch.utils.data.DataLoader(test_data, batch_size=len(test_data), pin_memory=True)"
   ]
  },
  {
   "cell_type": "code",
   "execution_count": 35,
   "metadata": {},
   "outputs": [
    {
     "name": "stdout",
     "output_type": "stream",
     "text": [
      "epoch [1/20], tr_loss: 0.2782, L1_val_loss: 0.1544, BCE_val_loss: 0.2464\n",
      "epoch [2/20], tr_loss: 0.1929, L1_val_loss: 0.0913, BCE_val_loss: 0.1667\n",
      "epoch [3/20], tr_loss: 0.1512, L1_val_loss: 0.0698, BCE_val_loss: 0.1385\n",
      "epoch [4/20], tr_loss: 0.1373, L1_val_loss: 0.0626, BCE_val_loss: 0.1285\n",
      "epoch [5/20], tr_loss: 0.1309, L1_val_loss: 0.0579, BCE_val_loss: 0.1218\n",
      "epoch [6/20], tr_loss: 0.1262, L1_val_loss: 0.0550, BCE_val_loss: 0.1173\n",
      "epoch [7/20], tr_loss: 0.1223, L1_val_loss: 0.0523, BCE_val_loss: 0.1140\n",
      "epoch [8/20], tr_loss: 0.1202, L1_val_loss: 0.0502, BCE_val_loss: 0.1109\n",
      "epoch [9/20], tr_loss: 0.1171, L1_val_loss: 0.0487, BCE_val_loss: 0.1096\n",
      "epoch [10/20], tr_loss: 0.1162, L1_val_loss: 0.0471, BCE_val_loss: 0.1070\n",
      "epoch [11/20], tr_loss: 0.1153, L1_val_loss: 0.0484, BCE_val_loss: 0.1092\n",
      "epoch [12/20], tr_loss: 0.1140, L1_val_loss: 0.0512, BCE_val_loss: 0.1110\n",
      "epoch [13/20], tr_loss: 0.1131, L1_val_loss: 0.0450, BCE_val_loss: 0.1036\n",
      "epoch [14/20], tr_loss: 0.1116, L1_val_loss: 0.0464, BCE_val_loss: 0.1057\n",
      "epoch [15/20], tr_loss: 0.1112, L1_val_loss: 0.0441, BCE_val_loss: 0.1026\n",
      "epoch [16/20], tr_loss: 0.1111, L1_val_loss: 0.0442, BCE_val_loss: 0.1027\n",
      "epoch [17/20], tr_loss: 0.1095, L1_val_loss: 0.0435, BCE_val_loss: 0.1023\n",
      "epoch [18/20], tr_loss: 0.1105, L1_val_loss: 0.0439, BCE_val_loss: 0.1027\n",
      "epoch [19/20], tr_loss: 0.1099, L1_val_loss: 0.0524, BCE_val_loss: 0.1109\n",
      "epoch [20/20], tr_loss: 0.1105, L1_val_loss: 0.0423, BCE_val_loss: 0.1002\n"
     ]
    }
   ],
   "source": [
    "mode = 'dae'\n",
    "\n",
    "model = ConvAE(hidden_dim=32, latent_dim=128).to(device)\n",
    "\n",
    "optimizer = torch.optim.Adam(model.parameters(), lr=0.01, weight_decay=1e-5)\n",
    "criterion = torch.nn.BCELoss()\n",
    "val_criterion = torch.nn.L1Loss()\n",
    "\n",
    "epochs = 20\n",
    "for epoch in range(epochs):\n",
    "    model.train()\n",
    "    tr_epoch_loss = 0\n",
    "    for i, (input_img, _) in enumerate(train_loader):\n",
    "        optimizer.zero_grad()\n",
    "\n",
    "        input_img = input_img.to(device)\n",
    "        img_noisy = add_noise(input_img)\n",
    "        out = model(img_noisy)\n",
    "        \n",
    "        tr_loss = criterion(out, input_img)\n",
    "\n",
    "        tr_loss.backward()\n",
    "        optimizer.step()\n",
    "\n",
    "        tr_epoch_loss += tr_loss.item()\n",
    "\n",
    "\n",
    "    model.eval()\n",
    "    with torch.no_grad():\n",
    "        for input_img, _ in val_loader:\n",
    "            \n",
    "            input_img = input_img.to(device)\n",
    "            out = model(input_img)\n",
    "                \n",
    "            val_loss = val_criterion(out, input_img)\n",
    "            bce_val_loss = criterion(out, input_img)\n",
    "\n",
    "        print(f\"epoch [{epoch + 1}/{epochs}], tr_loss: {tr_epoch_loss/(i+1):.4f}, L1_val_loss: {val_loss.item():.4f}, BCE_val_loss: {bce_val_loss.item():.4f}\")"
   ]
  },
  {
   "cell_type": "code",
   "execution_count": 36,
   "metadata": {},
   "outputs": [
    {
     "data": {
      "image/png": "[encoded data removed]",
      "text/plain": [
       "<Figure size 1500x1500 with 3 Axes>"
      ]
     },
     "metadata": {},
     "output_type": "display_data"
    }
   ],
   "source": [
    "j = 2\n",
    "fig, ax = plt.subplots(1, 3, figsize=(15, 15))\n",
    "x, _ = train_set[j]\n",
    "x_noisy = add_noise(x.to(device))\n",
    "x_squeeze = x.unsqueeze(0)\n",
    "\n",
    "with torch.no_grad():\n",
    "    ax[0].imshow(x.numpy()[0], cmap='gray')\n",
    "    ax[1].imshow(x_noisy.to('cpu').numpy()[0], cmap='gray')\n",
    "    out = model(x_noisy.to(device).unsqueeze(0))\n",
    "    ax[2].imshow(numpy.reshape((out.cpu().numpy()[0]), (28, 28)), cmap='gray')"
   ]
  },
  {
   "cell_type": "code",
   "execution_count": 37,
   "metadata": {},
   "outputs": [
    {
     "name": "stdout",
     "output_type": "stream",
     "text": [
      "val_loss: 0.0991\n"
     ]
    }
   ],
   "source": [
    "model.eval()\n",
    "with torch.no_grad():\n",
    "    for j, (input_img, _) in enumerate(test_loader):\n",
    "        input_img = input_img.to(device)\n",
    "        out = model(input_img)\n",
    "                \n",
    "        test_loss = criterion(out, input_img)\n",
    "\n",
    "    print(f\"val_loss: {test_loss.item():.4f}\")"
   ]
  }
 ],
 "metadata": {
  "kernelspec": {
   "display_name": "ispr",
   "language": "python",
   "name": "python3"
  },
  "language_info": {
   "codemirror_mode": {
    "name": "ipython",
    "version": 3
   },
   "file_extension": ".py",
   "mimetype": "text/x-python",
   "name": "python",
   "nbconvert_exporter": "python",
   "pygments_lexer": "ipython3",
   "version": "3.12.2"
  }
 },
 "nbformat": 4,
 "nbformat_minor": 2
}
