{
 "cells": [
  {
   "cell_type": "code",
   "execution_count": 22,
   "metadata": {},
   "outputs": [],
   "source": [
    "import torch\n",
    "import numpy\n",
    "import torch.nn as nn\n",
    "from torchvision import transforms\n",
    "import torchvision.datasets\n",
    "import matplotlib.pyplot as plt\n",
    "import math\n",
    "\n",
    "device = 'cuda' if torch.cuda.is_available() else 'cpu'"
   ]
  },
  {
   "cell_type": "code",
   "execution_count": 23,
   "metadata": {},
   "outputs": [],
   "source": [
    "train_size = 0.8\n",
    "val_size = 0.2\n",
    "generator = torch.Generator().manual_seed(42)"
   ]
  },
  {
   "cell_type": "code",
   "execution_count": 24,
   "metadata": {},
   "outputs": [],
   "source": [
    "def normalization(tensor, min_value, max_value):\n",
    "    min_tensor = tensor.min()\n",
    "    tensor = (tensor - min_tensor)\n",
    "    max_tensor = tensor.max()\n",
    "    tensor = tensor / max_tensor\n",
    "    tensor = tensor * (max_value - min_value) + min_value\n",
    "    \n",
    "    return torch.round(tensor)\n",
    "\n",
    "\n",
    "img_transform = transforms.Compose([\n",
    "    transforms.ToTensor(),\n",
    "    transforms.Lambda(lambda tensor:normalization(tensor, 0, 1))\n",
    "])\n",
    "\n",
    "def add_noise(img_tensor, std=0.35):\n",
    "    return (img_tensor + torch.randn(img_tensor.size(), generator=generator) * std)"
   ]
  },
  {
   "cell_type": "code",
   "execution_count": 25,
   "metadata": {},
   "outputs": [],
   "source": [
    "train_data  = torchvision.datasets.MNIST(\"./data\", train=True, transform=img_transform, download=False)\n",
    "test_data = torchvision.datasets.MNIST(\"./data\", train=False, transform=img_transform, download=False)\n",
    "\n",
    "data_size = len(train_data)"
   ]
  },
  {
   "cell_type": "code",
   "execution_count": 26,
   "metadata": {},
   "outputs": [
    {
     "data": {
      "text/plain": [
       "(60000, 10000)"
      ]
     },
     "execution_count": 26,
     "metadata": {},
     "output_type": "execute_result"
    }
   ],
   "source": [
    "len(train_data), len(test_data)"
   ]
  },
  {
   "cell_type": "code",
   "execution_count": 27,
   "metadata": {},
   "outputs": [],
   "source": [
    "train_set, val_set = torch.utils.data.random_split(train_data, [int(train_size*data_size), int(val_size*data_size)], generator=generator)"
   ]
  },
  {
   "cell_type": "code",
   "execution_count": 28,
   "metadata": {},
   "outputs": [
    {
     "data": {
      "text/plain": [
       "(48000, 12000)"
      ]
     },
     "execution_count": 28,
     "metadata": {},
     "output_type": "execute_result"
    }
   ],
   "source": [
    "len(train_set), len(val_set)"
   ]
  },
  {
   "cell_type": "code",
   "execution_count": 29,
   "metadata": {},
   "outputs": [
    {
     "name": "stdout",
     "output_type": "stream",
     "text": [
      "cpu\n"
     ]
    },
    {
     "data": {
      "text/plain": [
       "<matplotlib.image.AxesImage at 0x7f90905cfc80>"
      ]
     },
     "execution_count": 29,
     "metadata": {},
     "output_type": "execute_result"
    },
    {
     "data": {
      "image/png": "[encoded data removed]",
      "text/plain": [
       "<Figure size 640x480 with 2 Axes>"
      ]
     },
     "metadata": {},
     "output_type": "display_data"
    }
   ],
   "source": [
    "fig, ax = plt.subplots(1, 2)\n",
    "j = 69\n",
    "x, _ = train_set[j]\n",
    "print(x.device)\n",
    "ax[0].imshow(x.numpy()[0], cmap='gray')\n",
    "ax[1].imshow(add_noise(x).numpy()[0], cmap='gray')"
   ]
  },
  {
   "cell_type": "code",
   "execution_count": 30,
   "metadata": {},
   "outputs": [
    {
     "data": {
      "text/plain": [
       "torch.Size([1, 28, 28])"
      ]
     },
     "execution_count": 30,
     "metadata": {},
     "output_type": "execute_result"
    }
   ],
   "source": [
    "x.shape"
   ]
  },
  {
   "cell_type": "code",
   "execution_count": 31,
   "metadata": {},
   "outputs": [],
   "source": [
    "class ConvAE(nn.Module):\n",
    "    def __init__(self, input_dim = 28, hidden_dim:int = 16, latent_dim:int = 32, kernel_size:int = 3):\n",
    "        super(ConvAE, self).__init__()\n",
    "\n",
    "        linear_dim = (hidden_dim//2) * (input_dim//4) * (input_dim//4)\n",
    "\n",
    "        self.encoder = nn.Sequential(nn.Conv2d(1, hidden_dim, kernel_size=kernel_size, padding=1), # padding = 1 because of kernel = 3\n",
    "                                     nn.GELU(), \n",
    "                                     nn.MaxPool2d(2, 2),\n",
    "                                     nn.Conv2d(hidden_dim, int(hidden_dim/2), kernel_size=kernel_size, padding=1),\n",
    "                                     nn.GELU(),\n",
    "                                     nn.MaxPool2d(2, 2),\n",
    "                                     nn.Flatten(),\n",
    "                                     nn.Linear(linear_dim, latent_dim),\n",
    "                                     nn.GELU()\n",
    "                                     )\n",
    "        \n",
    "        self.decoder = nn.Sequential(nn.Linear(latent_dim, linear_dim),\n",
    "                                     nn.GELU(), \n",
    "                                     nn.Unflatten(dim=1, unflattened_size=((hidden_dim//2), (input_dim//4), (input_dim//4))),\n",
    "                                     nn.ConvTranspose2d(hidden_dim//2, hidden_dim, kernel_size=2, stride=2), \n",
    "                                     nn.ConvTranspose2d(hidden_dim, 1, kernel_size=2, stride=2), \n",
    "                                     nn.Sigmoid())\n",
    "\n",
    "    def forward(self, x):\n",
    "        x = self.encoder(x)\n",
    "\n",
    "        return self.decoder(x)"
   ]
  },
  {
   "cell_type": "code",
   "execution_count": 33,
   "metadata": {},
   "outputs": [
    {
     "name": "stdout",
     "output_type": "stream",
     "text": [
      "epoch [1/51], tr_loss: 0.3049, val_loss: 0.2264\n",
      "epoch [2/51], tr_loss: 0.1682, val_loss: 0.1592\n",
      "epoch [3/51], tr_loss: 0.1322, val_loss: 0.1269\n",
      "epoch [4/51], tr_loss: 0.1171, val_loss: 0.1115\n",
      "epoch [5/51], tr_loss: 0.1095, val_loss: 0.1067\n",
      "epoch [6/51], tr_loss: 0.1037, val_loss: 0.0953\n",
      "epoch [7/51], tr_loss: 0.0993, val_loss: 0.0911\n",
      "epoch [8/51], tr_loss: 0.0967, val_loss: 0.0882\n",
      "epoch [9/51], tr_loss: 0.0937, val_loss: 0.0832\n",
      "epoch [10/51], tr_loss: 0.0921, val_loss: 0.0841\n",
      "epoch [11/51], tr_loss: 0.0892, val_loss: 0.0785\n",
      "epoch [12/51], tr_loss: 0.0871, val_loss: 0.0766\n",
      "epoch [13/51], tr_loss: 0.0865, val_loss: 0.0742\n",
      "epoch [14/51], tr_loss: 0.0852, val_loss: 0.0738\n",
      "epoch [15/51], tr_loss: 0.0827, val_loss: 0.0720\n",
      "epoch [16/51], tr_loss: 0.0821, val_loss: 0.0703\n",
      "epoch [17/51], tr_loss: 0.0810, val_loss: 0.0717\n",
      "epoch [18/51], tr_loss: 0.0797, val_loss: 0.0678\n",
      "epoch [19/51], tr_loss: 0.0787, val_loss: 0.0678\n",
      "epoch [20/51], tr_loss: 0.0783, val_loss: 0.0674\n",
      "epoch [21/51], tr_loss: 0.0777, val_loss: 0.0791\n",
      "epoch [22/51], tr_loss: 0.0781, val_loss: 0.0659\n",
      "epoch [23/51], tr_loss: 0.0763, val_loss: 0.0650\n",
      "epoch [24/51], tr_loss: 0.0758, val_loss: 0.0641\n",
      "epoch [25/51], tr_loss: 0.0756, val_loss: 0.0640\n",
      "epoch [26/51], tr_loss: 0.0750, val_loss: 0.0655\n",
      "epoch [27/51], tr_loss: 0.0758, val_loss: 0.0631\n",
      "epoch [28/51], tr_loss: 0.0751, val_loss: 0.0631\n",
      "epoch [29/51], tr_loss: 0.0736, val_loss: 0.0689\n",
      "epoch [30/51], tr_loss: 0.0741, val_loss: 0.0616\n",
      "epoch [31/51], tr_loss: 0.0728, val_loss: 0.0619\n",
      "epoch [32/51], tr_loss: 0.0729, val_loss: 0.0615\n",
      "epoch [33/51], tr_loss: 0.0727, val_loss: 0.0633\n",
      "epoch [34/51], tr_loss: 0.0721, val_loss: 0.0609\n",
      "epoch [35/51], tr_loss: 0.0724, val_loss: 0.0594\n",
      "epoch [36/51], tr_loss: 0.0717, val_loss: 0.0622\n",
      "epoch [37/51], tr_loss: 0.0729, val_loss: 0.0621\n",
      "epoch [38/51], tr_loss: 0.0712, val_loss: 0.0613\n",
      "epoch [39/51], tr_loss: 0.0712, val_loss: 0.0636\n",
      "epoch [40/51], tr_loss: 0.0710, val_loss: 0.0594\n",
      "epoch [41/51], tr_loss: 0.0708, val_loss: 0.0594\n",
      "epoch [42/51], tr_loss: 0.0704, val_loss: 0.0594\n",
      "epoch [43/51], tr_loss: 0.0702, val_loss: 0.0619\n",
      "epoch [44/51], tr_loss: 0.0707, val_loss: 0.0609\n",
      "epoch [45/51], tr_loss: 0.0703, val_loss: 0.0611\n",
      "epoch [46/51], tr_loss: 0.0707, val_loss: 0.0588\n",
      "epoch [47/51], tr_loss: 0.0697, val_loss: 0.0578\n",
      "epoch [48/51], tr_loss: 0.0695, val_loss: 0.0615\n",
      "epoch [49/51], tr_loss: 0.0695, val_loss: 0.0639\n",
      "epoch [50/51], tr_loss: 0.0696, val_loss: 0.0582\n",
      "epoch [51/51], tr_loss: 0.0701, val_loss: 0.0619\n"
     ]
    },
    {
     "data": {
      "image/png": "[encoded data removed]",
      "text/plain": [
       "<Figure size 1500x1500 with 3 Axes>"
      ]
     },
     "metadata": {},
     "output_type": "display_data"
    }
   ],
   "source": [
    "j = 69\n",
    "fig, ax = plt.subplots(1, 3, figsize=(15, 15))\n",
    "x, _ = train_set[j]\n",
    "x_noisy = add_noise(x)\n",
    "x_squeeze = x.unsqueeze(0)\n",
    "\n",
    "model = ConvAE(hidden_dim=32, latent_dim=64).to(device)\n",
    "\n",
    "optimizer = torch.optim.Adam(model.parameters(), lr=0.005, weight_decay=1e-4)\n",
    "criterion = torch.nn.BCELoss()\n",
    "\n",
    "train_loader = torch.utils.data.DataLoader(train_set, batch_size=1024, shuffle=True)\n",
    "val_loader = torch.utils.data.DataLoader(val_set, batch_size=len(val_set), shuffle=False)\n",
    "\n",
    "epochs = 51\n",
    "for epoch in range(epochs):\n",
    "    model.train()\n",
    "    tr_epoch_loss = 0\n",
    "    for i, (input_img, _) in enumerate(train_loader):\n",
    "        optimizer.zero_grad()\n",
    "        \n",
    "        img_noisy = add_noise(input_img).to(device)\n",
    "        out = model(img_noisy)\n",
    "        \n",
    "        \n",
    "        input_img = input_img.to(device)\n",
    "        tr_loss = criterion(out, input_img)\n",
    "\n",
    "        tr_loss.backward()\n",
    "        optimizer.step()\n",
    "        \n",
    "        tr_epoch_loss += tr_loss.item()\n",
    "\n",
    "\n",
    "    model.eval()\n",
    "    with torch.no_grad():\n",
    "        for j, (input_img, _) in enumerate(val_loader):\n",
    "            input_img = input_img.to(device)\n",
    "            out = model(input_img)\n",
    "                \n",
    "            val_loss = criterion(out, input_img)\n",
    "\n",
    "        print(f\"epoch [{epoch + 1}/{epochs}], tr_loss: {tr_epoch_loss/(i+1):.4f}, val_loss: {val_loss.item():.4f}\")\n",
    "        \n",
    "        if (epoch % 10 == 0):\n",
    "            ax[0].imshow(x.numpy()[0], cmap='gray')\n",
    "            ax[1].imshow(x_noisy.numpy()[0], cmap='gray')\n",
    "            out = model(x_noisy.to(device).unsqueeze(0))\n",
    "            ax[2].imshow(numpy.reshape((out.cpu().numpy()[0]), (28, 28)), cmap='gray')"
   ]
  }
 ],
 "metadata": {
  "kernelspec": {
   "display_name": "ispr",
   "language": "python",
   "name": "python3"
  },
  "language_info": {
   "codemirror_mode": {
    "name": "ipython",
    "version": 3
   },
   "file_extension": ".py",
   "mimetype": "text/x-python",
   "name": "python",
   "nbconvert_exporter": "python",
   "pygments_lexer": "ipython3",
   "version": "3.12.2"
  }
 },
 "nbformat": 4,
 "nbformat_minor": 2
}
